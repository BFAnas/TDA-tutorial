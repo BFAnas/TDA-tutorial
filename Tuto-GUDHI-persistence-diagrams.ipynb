{
 "cells": [
  {
   "cell_type": "markdown",
   "metadata": {
    "collapsed": true
   },
   "source": [
    "# TDA  with Python using the Gudhi Library  \n",
    "\n",
    "# Persistence diagram   "
   ]
  },
  {
   "cell_type": "markdown",
   "metadata": {},
   "source": [
    "**Authors:** F. Chazal and B. Michel"
   ]
  },
  {
   "cell_type": "code",
   "execution_count": 1,
   "metadata": {},
   "outputs": [],
   "source": [
    "import numpy as np\n",
    "import pickle as pickle\n",
    "import gudhi as gd  \n",
    "from pylab import *\n",
    "from mpl_toolkits.mplot3d import Axes3D\n",
    "%matplotlib inline\n",
    "# import sklearn_tda"
   ]
  },
  {
   "cell_type": "markdown",
   "metadata": {},
   "source": [
    "### Persistence homology and persistence diagram"
   ]
  },
  {
   "cell_type": "markdown",
   "metadata": {},
   "source": [
    "Persistent homology is a powerful tool to compute, study and encode efficiently multiscale topological features of nested families of simplicial complexes and topological spaces. It encodes the evolution of the homology groups of the nested complexes across the scales. In the example below we consider the filtration given by a union of growing balls centered on the finite set of points $C$. \n",
    "<img src=\"Images/persistence.png\"  style=\"width: 600px;\"/>"
   ]
  },
  {
   "cell_type": "markdown",
   "metadata": {},
   "source": [
    "\n",
    "a) For the radius r = 0, the union of balls is reduced to the initial finite set of point, each of them corresponding to a 0-dimensional feature, i.e. a connected component; an interval is created for the birth for each of these features at r = 0.  \n",
    "\n",
    "b) Some of the balls started to overlap resulting in the death of some connected components that get merged together; the persistence diagram keeps track of these deaths, putting an end point to the corresponding intervals as they disappear.    \n",
    "\n",
    "c) New components have merged giving rise to a single connected component and, so, all the intervals associated to a 0-dimensional feature have been ended, except the one corresponding to the remaining components; two new 1-dimensional features, have appeared resulting in two new intervals (in blue) starting at their birth scale.  \n",
    "\n",
    "d) One of the two 1-dimensional cycles has been filled, resulting in its death in the filtration and the end of the corresponding blue interval.     \n",
    "\n",
    "e) all the 1-dimensional features have died, it only remains the long (and never dying) red interval. \n",
    "\n",
    "The final barcode can also be equivalently represented as **a persistence diagram** where every interval (a,b) is represented by the the point of coordinate (a,b) in $\\mathbb R^2$. \n",
    "\n",
    "Intuitively the longer is an interval in the barcode or, equivalently the farther from the diagonal is the corresponding point in the diagram, the more persistent, and thus relevant, is the corresponding homological feature across the filtration. \n",
    " \n",
    "          "
   ]
  },
  {
   "cell_type": "markdown",
   "metadata": {},
   "source": [
    "### A persistence diagram for the Vietoris-Rips complex filtration"
   ]
  },
  {
   "cell_type": "markdown",
   "metadata": {},
   "source": [
    "The walk of 3 persons A, B and C, has been recorded using the accelerometer sensor of a smartphone in their pocket, giving rise to 3 multivariate time series in $\\mathbb R ^d$: each time series represents the 3 coordinates of the acceleration of the corresponding walker in a coordinate system attached to the sensor. \n",
    "\n",
    "Notice that the smartphone was carried in a possibly different position for each person and thus these time series cannot be compared coordinates by coordinates.\n",
    "\n",
    "Using a sliding window, each serie have been splitted in a list of 100 times series made of 200 consecutive points, that are stored in `data_A`, `data_B` and `data_C`.\n"
   ]
  },
  {
   "cell_type": "markdown",
   "metadata": {},
   "source": [
    "We load the data with the pickle module :"
   ]
  },
  {
   "cell_type": "code",
   "execution_count": 2,
   "metadata": {},
   "outputs": [],
   "source": [
    "f = open(\"./datasets/data_acc\",\"rb\")\n",
    "data = pickle.load(f)    \n",
    "f.close()"
   ]
  },
  {
   "cell_type": "code",
   "execution_count": 3,
   "metadata": {},
   "outputs": [
    {
     "name": "stdout",
     "output_type": "stream",
     "text": [
      "['A' 'A' 'A' 'A' 'A' 'A' 'A' 'A' 'A' 'A' 'A' 'A' 'A' 'A' 'A' 'A' 'A' 'A'\n",
      " 'A' 'A' 'A' 'A' 'A' 'A' 'A' 'A' 'A' 'A' 'A' 'A' 'A' 'A' 'A' 'A' 'A' 'A'\n",
      " 'A' 'A' 'A' 'A' 'A' 'A' 'A' 'A' 'A' 'A' 'A' 'A' 'A' 'A' 'A' 'A' 'A' 'A'\n",
      " 'A' 'A' 'A' 'A' 'A' 'A' 'A' 'A' 'A' 'A' 'A' 'A' 'A' 'A' 'A' 'A' 'A' 'A'\n",
      " 'A' 'A' 'A' 'A' 'A' 'A' 'A' 'A' 'A' 'A' 'A' 'A' 'A' 'A' 'A' 'A' 'A' 'A'\n",
      " 'A' 'A' 'A' 'A' 'A' 'A' 'A' 'A' 'A' 'A' 'B' 'B' 'B' 'B' 'B' 'B' 'B' 'B'\n",
      " 'B' 'B' 'B' 'B' 'B' 'B' 'B' 'B' 'B' 'B' 'B' 'B' 'B' 'B' 'B' 'B' 'B' 'B'\n",
      " 'B' 'B' 'B' 'B' 'B' 'B' 'B' 'B' 'B' 'B' 'B' 'B' 'B' 'B' 'B' 'B' 'B' 'B'\n",
      " 'B' 'B' 'B' 'B' 'B' 'B' 'B' 'B' 'B' 'B' 'B' 'B' 'B' 'B' 'B' 'B' 'B' 'B'\n",
      " 'B' 'B' 'B' 'B' 'B' 'B' 'B' 'B' 'B' 'B' 'B' 'B' 'B' 'B' 'B' 'B' 'B' 'B'\n",
      " 'B' 'B' 'B' 'B' 'B' 'B' 'B' 'B' 'B' 'B' 'B' 'B' 'B' 'B' 'B' 'B' 'B' 'B'\n",
      " 'B' 'B' 'C' 'C' 'C' 'C' 'C' 'C' 'C' 'C' 'C' 'C' 'C' 'C' 'C' 'C' 'C' 'C'\n",
      " 'C' 'C' 'C' 'C' 'C' 'C' 'C' 'C' 'C' 'C' 'C' 'C' 'C' 'C' 'C' 'C' 'C' 'C'\n",
      " 'C' 'C' 'C' 'C' 'C' 'C' 'C' 'C' 'C' 'C' 'C' 'C' 'C' 'C' 'C' 'C' 'C' 'C'\n",
      " 'C' 'C' 'C' 'C' 'C' 'C' 'C' 'C' 'C' 'C' 'C' 'C' 'C' 'C' 'C' 'C' 'C' 'C'\n",
      " 'C' 'C' 'C' 'C' 'C' 'C' 'C' 'C' 'C' 'C' 'C' 'C' 'C' 'C' 'C' 'C' 'C' 'C'\n",
      " 'C' 'C' 'C' 'C' 'C' 'C' 'C' 'C' 'C' 'C' 'C' 'C']\n"
     ]
    }
   ],
   "source": [
    "data_A = data[0]\n",
    "data_B = data[1] \n",
    "data_C = data[2]\n",
    "label = data[3]\n",
    "print(label)"
   ]
  },
  {
   "cell_type": "markdown",
   "metadata": {},
   "source": [
    "The object <code>data_A</code> is a list of 100 time series of the 3d acceleration for Walker A, let's have a look at the dimensions of <code>data_A</code>:"
   ]
  },
  {
   "cell_type": "code",
   "execution_count": 4,
   "metadata": {},
   "outputs": [
    {
     "name": "stdout",
     "output_type": "stream",
     "text": [
      "(100, 200, 3)\n"
     ]
    }
   ],
   "source": [
    "print(np.shape(data_A))"
   ]
  },
  {
   "cell_type": "markdown",
   "metadata": {},
   "source": [
    "We now extract a trajectory of accelerations for the first trajectory of walker A :"
   ]
  },
  {
   "cell_type": "code",
   "execution_count": 10,
   "metadata": {},
   "outputs": [],
   "source": [
    "data_A_sample = data_A[0]"
   ]
  },
  {
   "cell_type": "markdown",
   "metadata": {},
   "source": [
    "We build the Vietoris-Rips complex for the point cloud `data_A_sample`, see this [notebook](Tuto-GUDHI-simplicial-complexes-from-data-points.ipynb) for more details."
   ]
  },
  {
   "cell_type": "code",
   "execution_count": 19,
   "metadata": {},
   "outputs": [],
   "source": [
    "skeleton  = gd.RipsComplex(points = data_A_sample,max_edge_length=0.3 )\n",
    "Rips_simplex_tree_sample = skeleton.create_simplex_tree(max_dimension=3) "
   ]
  },
  {
   "cell_type": "markdown",
   "metadata": {},
   "source": [
    "Now we can compute persistence on the simplex tree structure using the <code>persistence()</code> method of the simplex tree class:"
   ]
  },
  {
   "cell_type": "code",
   "execution_count": 27,
   "metadata": {},
   "outputs": [],
   "source": [
    "BarCodes_Rips = Rips_simplex_tree_sample.persistence()"
   ]
  },
  {
   "cell_type": "markdown",
   "metadata": {},
   "source": [
    "The object `BarCodes_Rips` is the list of barcodes: each element in the list is a tuple (dim,(b,d)) where dim is a dimension, b is birth parameter  and d is death parameter.\n",
    "\n",
    "Let's print the 20 first elements in the list:"
   ]
  },
  {
   "cell_type": "code",
   "execution_count": 28,
   "metadata": {},
   "outputs": [
    {
     "name": "stdout",
     "output_type": "stream",
     "text": [
      "(2, (0.18467330459489806, 0.19003814936217414))\n",
      "(2, (0.2077507075342945, 0.21043404394251414))\n",
      "(1, (0.29302384857379776, inf))\n",
      "(1, (0.27925822138479645, inf))\n",
      "(1, (0.27752945149118863, inf))\n",
      "(1, (0.29406771695478573, inf))\n",
      "(1, (0.29558394385521014, inf))\n",
      "(1, (0.18063993787366073, 0.24825211124379187))\n",
      "(1, (0.13820579330114913, 0.1905343689180511))\n",
      "(1, (0.20475722867337312, 0.24820590908558166))\n",
      "(1, (0.09431151230894352, 0.13756482377410295))\n",
      "(1, (0.11474393691171661, 0.15024735235271203))\n",
      "(1, (0.15214484619927154, 0.1834244192848924))\n",
      "(1, (0.0988476350045867, 0.12681166596965754))\n",
      "(1, (0.10573652128758541, 0.12823135784198816))\n",
      "(1, (0.11781728562906214, 0.13940711665478195))\n",
      "(1, (0.05312372783417972, 0.07386673382518012))\n",
      "(1, (0.15074951296770425, 0.1691032807724321))\n",
      "(1, (0.08570780140103933, 0.10213800265327311))\n",
      "(1, (0.17062257805460557, 0.18676901977844187))\n"
     ]
    }
   ],
   "source": [
    "for i in range(20):\n",
    "    print(BarCodes_Rips[i])"
   ]
  },
  {
   "cell_type": "markdown",
   "metadata": {},
   "source": [
    "The two first elements (bars) in the list correspond to topolological features of dimension 2. The next bars have dimension 1."
   ]
  },
  {
   "cell_type": "markdown",
   "metadata": {},
   "source": [
    "We have access to persistence_intervals per dimension using the `persistence_intervals_in_dimension()` method, for instance for dimension 0:"
   ]
  },
  {
   "cell_type": "code",
   "execution_count": 29,
   "metadata": {},
   "outputs": [
    {
     "data": {
      "text/plain": [
       "[(0.0, 0.010037972604067026),\n",
       " (0.0, 0.011934283430520687),\n",
       " (0.0, 0.017975277911620735),\n",
       " (0.0, 0.018713766643837386),\n",
       " (0.0, 0.018944080262710026),\n",
       " (0.0, 0.02139398300924822),\n",
       " (0.0, 0.02153918522135876),\n",
       " (0.0, 0.022836281768273937),\n",
       " (0.0, 0.02404079478719446),\n",
       " (0.0, 0.02528062297491887),\n",
       " (0.0, 0.02543660160084278),\n",
       " (0.0, 0.02656518191166776),\n",
       " (0.0, 0.026689955732447364),\n",
       " (0.0, 0.027999307509293882),\n",
       " (0.0, 0.028305883664001743),\n",
       " (0.0, 0.030244785153807872),\n",
       " (0.0, 0.030334711041972974),\n",
       " (0.0, 0.030841760585284376),\n",
       " (0.0, 0.03270191445466141),\n",
       " (0.0, 0.033380721157578334),\n",
       " (0.0, 0.03371579898207958),\n",
       " (0.0, 0.034473350301356065),\n",
       " (0.0, 0.035402079628179935),\n",
       " (0.0, 0.03635244907843206),\n",
       " (0.0, 0.036790327465245506),\n",
       " (0.0, 0.037527917767976426),\n",
       " (0.0, 0.038341942830274006),\n",
       " (0.0, 0.03952421033999288),\n",
       " (0.0, 0.04042591259328599),\n",
       " (0.0, 0.04086899075093489),\n",
       " (0.0, 0.041456725944049144),\n",
       " (0.0, 0.04152965660826004),\n",
       " (0.0, 0.041682370973830186),\n",
       " (0.0, 0.042696594676859156),\n",
       " (0.0, 0.04296810997705157),\n",
       " (0.0, 0.043114058785969134),\n",
       " (0.0, 0.044036842087052615),\n",
       " (0.0, 0.04441595016432722),\n",
       " (0.0, 0.044417584119355306),\n",
       " (0.0, 0.04474070645396651),\n",
       " (0.0, 0.044775941184971184),\n",
       " (0.0, 0.0452854613645483),\n",
       " (0.0, 0.04669949572532886),\n",
       " (0.0, 0.04670615440174885),\n",
       " (0.0, 0.046858285510675696),\n",
       " (0.0, 0.04704462724902802),\n",
       " (0.0, 0.04705525816526781),\n",
       " (0.0, 0.04728024972438278),\n",
       " (0.0, 0.04745268912295697),\n",
       " (0.0, 0.049566945306322815),\n",
       " (0.0, 0.04963560183980849),\n",
       " (0.0, 0.05056851213947273),\n",
       " (0.0, 0.050702254644147744),\n",
       " (0.0, 0.051819557360131926),\n",
       " (0.0, 0.052141185592581234),\n",
       " (0.0, 0.052446656995465385),\n",
       " (0.0, 0.05251374992323431),\n",
       " (0.0, 0.052579455550623565),\n",
       " (0.0, 0.052584575552152),\n",
       " (0.0, 0.05346525304344867),\n",
       " (0.0, 0.05609809287310933),\n",
       " (0.0, 0.05720113721771624),\n",
       " (0.0, 0.057783562783892094),\n",
       " (0.0, 0.05863404365213099),\n",
       " (0.0, 0.0596158563974384),\n",
       " (0.0, 0.060238960831010345),\n",
       " (0.0, 0.06094968903940364),\n",
       " (0.0, 0.06138278896400837),\n",
       " (0.0, 0.06148840621613158),\n",
       " (0.0, 0.06199246802636574),\n",
       " (0.0, 0.0636498090020701),\n",
       " (0.0, 0.06382961021344256),\n",
       " (0.0, 0.06424520179748805),\n",
       " (0.0, 0.06459467388260429),\n",
       " (0.0, 0.06488695086841416),\n",
       " (0.0, 0.06503809622828763),\n",
       " (0.0, 0.06574192542054116),\n",
       " (0.0, 0.0665538115212044),\n",
       " (0.0, 0.06667809637354682),\n",
       " (0.0, 0.06766503749352384),\n",
       " (0.0, 0.06784689220590728),\n",
       " (0.0, 0.06794002799528429),\n",
       " (0.0, 0.06829912527990396),\n",
       " (0.0, 0.06893564777384778),\n",
       " (0.0, 0.07069102201128512),\n",
       " (0.0, 0.07158922758348492),\n",
       " (0.0, 0.07167382663846003),\n",
       " (0.0, 0.07298488915522172),\n",
       " (0.0, 0.07347856869183028),\n",
       " (0.0, 0.07408275935735664),\n",
       " (0.0, 0.0748454565220897),\n",
       " (0.0, 0.07715699382428014),\n",
       " (0.0, 0.07718928390651124),\n",
       " (0.0, 0.07727170278957232),\n",
       " (0.0, 0.0772997236088202),\n",
       " (0.0, 0.07789140647080393),\n",
       " (0.0, 0.07929685218216419),\n",
       " (0.0, 0.07965579324820012),\n",
       " (0.0, 0.0800770738788574),\n",
       " (0.0, 0.08015724883627183),\n",
       " (0.0, 0.08034568290829322),\n",
       " (0.0, 0.08072997367149329),\n",
       " (0.0, 0.08170939256903094),\n",
       " (0.0, 0.0827821835904321),\n",
       " (0.0, 0.0827952800224748),\n",
       " (0.0, 0.08315838583089503),\n",
       " (0.0, 0.08366301480343655),\n",
       " (0.0, 0.08371199877556379),\n",
       " (0.0, 0.08515225921254232),\n",
       " (0.0, 0.08975777725634695),\n",
       " (0.0, 0.08989852068860758),\n",
       " (0.0, 0.08999001737415101),\n",
       " (0.0, 0.09077192599587165),\n",
       " (0.0, 0.09185342773135895),\n",
       " (0.0, 0.09229571094585055),\n",
       " (0.0, 0.09247599115446123),\n",
       " (0.0, 0.09295130815647519),\n",
       " (0.0, 0.09381712562746734),\n",
       " (0.0, 0.09460259822013344),\n",
       " (0.0, 0.09599314684392839),\n",
       " (0.0, 0.09638418466221516),\n",
       " (0.0, 0.09645906332221982),\n",
       " (0.0, 0.0966262595778187),\n",
       " (0.0, 0.09671649214585899),\n",
       " (0.0, 0.09676909684914925),\n",
       " (0.0, 0.09849122377653761),\n",
       " (0.0, 0.09876018320153132),\n",
       " (0.0, 0.09922854013840976),\n",
       " (0.0, 0.1019459278931729),\n",
       " (0.0, 0.10334966456646101),\n",
       " (0.0, 0.10541464280639572),\n",
       " (0.0, 0.1055758014840521),\n",
       " (0.0, 0.10577425113419625),\n",
       " (0.0, 0.10622396146821111),\n",
       " (0.0, 0.10762006867215791),\n",
       " (0.0, 0.11096414936365706),\n",
       " (0.0, 0.11252044039640087),\n",
       " (0.0, 0.11337418256816674),\n",
       " (0.0, 0.11645736916571654),\n",
       " (0.0, 0.11860576593488194),\n",
       " (0.0, 0.12024874661301037),\n",
       " (0.0, 0.1207081687625158),\n",
       " (0.0, 0.12206607802743574),\n",
       " (0.0, 0.12282056115325311),\n",
       " (0.0, 0.12339868844521812),\n",
       " (0.0, 0.12383451566102247),\n",
       " (0.0, 0.12408945529334868),\n",
       " (0.0, 0.12547761879713853),\n",
       " (0.0, 0.12857725264991474),\n",
       " (0.0, 0.12877109698608613),\n",
       " (0.0, 0.12951587126680641),\n",
       " (0.0, 0.13015796474284622),\n",
       " (0.0, 0.13175327362156888),\n",
       " (0.0, 0.1348176365243064),\n",
       " (0.0, 0.1358223244904902),\n",
       " (0.0, 0.1377671958341318),\n",
       " (0.0, 0.14041997200897033),\n",
       " (0.0, 0.14233827738524868),\n",
       " (0.0, 0.1507596821069877),\n",
       " (0.0, 0.1519320273477584),\n",
       " (0.0, 0.1528046796731043),\n",
       " (0.0, 0.15578941300999882),\n",
       " (0.0, 0.16251767395886504),\n",
       " (0.0, 0.16275749646944077),\n",
       " (0.0, 0.16456168420686518),\n",
       " (0.0, 0.16721863530719291),\n",
       " (0.0, 0.16785849816437654),\n",
       " (0.0, 0.16826241786566615),\n",
       " (0.0, 0.17301070479597494),\n",
       " (0.0, 0.17835726209493125),\n",
       " (0.0, 0.18198716723439587),\n",
       " (0.0, 0.19137049341264695),\n",
       " (0.0, 0.1915583368063109),\n",
       " (0.0, 0.1929731037346915),\n",
       " (0.0, 0.19595581430516418),\n",
       " (0.0, 0.19651948616104173),\n",
       " (0.0, 0.20011790092093226),\n",
       " (0.0, 0.20074328556143534),\n",
       " (0.0, 0.20624444783314774),\n",
       " (0.0, 0.21922100451142904),\n",
       " (0.0, 0.21999403456003072),\n",
       " (0.0, 0.22098522112349506),\n",
       " (0.0, 0.22819600672229123),\n",
       " (0.0, 0.24313281587848232),\n",
       " (0.0, 0.245580997416331),\n",
       " (0.0, 0.24590211480993807),\n",
       " (0.0, 0.2502459265382756),\n",
       " (0.0, 0.26530082722260784),\n",
       " (0.0, 0.27383349286747216),\n",
       " (0.0, 0.28045555153713747),\n",
       " (0.0, inf),\n",
       " (0.0, inf),\n",
       " (0.0, inf),\n",
       " (0.0, inf),\n",
       " (0.0, inf),\n",
       " (0.0, inf),\n",
       " (0.0, inf),\n",
       " (0.0, inf),\n",
       " (0.0, inf),\n",
       " (0.0, inf)]"
      ]
     },
     "execution_count": 29,
     "metadata": {},
     "output_type": "execute_result"
    }
   ],
   "source": [
    "Rips_simplex_tree_sample.persistence_intervals_in_dimension(0)"
   ]
  },
  {
   "cell_type": "markdown",
   "metadata": {},
   "source": [
    "The last bars (0.0, inf) die at infinity. Note that several bars die at infinity in this case because we took `max_edge_length=0.3`, which is not large enough to produce one single connected component at the end of the filtration."
   ]
  },
  {
   "cell_type": "markdown",
   "metadata": {},
   "source": [
    "Finally we can plot the persistence diagram:"
   ]
  },
  {
   "cell_type": "code",
   "execution_count": 31,
   "metadata": {},
   "outputs": [
    {
     "data": {
      "image/png": "[encoded data removed]",
      "text/plain": [
       "<Figure size 432x288 with 1 Axes>"
      ]
     },
     "metadata": {
      "needs_background": "light"
     },
     "output_type": "display_data"
    }
   ],
   "source": [
    "gd.plot_persistence_diagram(BarCodes_Rips);"
   ]
  },
  {
   "cell_type": "code",
   "execution_count": null,
   "metadata": {},
   "outputs": [],
   "source": []
  }
 ],
 "metadata": {
  "anaconda-cloud": {},
  "kernelspec": {
   "display_name": "Python 3",
   "language": "python",
   "name": "python3"
  },
  "language_info": {
   "codemirror_mode": {
    "name": "ipython",
    "version": 3
   },
   "file_extension": ".py",
   "mimetype": "text/x-python",
   "name": "python",
   "nbconvert_exporter": "python",
   "pygments_lexer": "ipython3",
   "version": "3.7.3"
  }
 },
 "nbformat": 4,
 "nbformat_minor": 1
}
