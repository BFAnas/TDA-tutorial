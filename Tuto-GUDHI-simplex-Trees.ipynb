{
 "cells": [
  {
   "cell_type": "markdown",
   "metadata": {
    "collapsed": true
   },
   "source": [
    "<h1><center>Topological Data Analysis with Python and the Gudhi Library </center></h1>\n",
    "\n",
    "<h1><center> Introduction to simplex trees </center></h1>"
   ]
  },
  {
   "cell_type": "markdown",
   "metadata": {},
   "source": [
    "**Authors** : F. Chazal and B. Michel"
   ]
  },
  {
   "cell_type": "code",
   "execution_count": 1,
   "metadata": {},
   "outputs": [],
   "source": [
    "from IPython.display import Image\n",
    "from os import chdir\n",
    "import numpy as np\n",
    "import gudhi as gd\n",
    "import matplotlib.pyplot as plt"
   ]
  },
  {
   "cell_type": "markdown",
   "metadata": {},
   "source": [
    "In Gudhi, (filtered) simplicial complexes are encoded through a data structure called simplex tree. Here is a very simple example illustrating the use of simplex tree to represent simplicial complexes. See the [Python Gudhi documentation](http://gudhi.gforge.inria.fr/python/latest/simplex_tree_ref.html#) for a complete list of functionalities. "
   ]
  },
  {
   "cell_type": "markdown",
   "metadata": {},
   "source": [
    "Let's create our first simplicial complex, represented by a simplex tree :"
   ]
  },
  {
   "cell_type": "code",
   "execution_count": 2,
   "metadata": {},
   "outputs": [],
   "source": [
    "st = gd.SimplexTree()"
   ]
  },
  {
   "cell_type": "markdown",
   "metadata": {},
   "source": [
    "The `st` object has class `SimplexTree` with several usufull methods for the practice of TDA.\n",
    "\n",
    "The `insert()` method can be used to insert simplices in the simplex tree. Vertices can be indexed by integers as follows:"
   ]
  },
  {
   "cell_type": "code",
   "execution_count": 3,
   "metadata": {},
   "outputs": [
    {
     "data": {
      "text/plain": [
       "True"
      ]
     },
     "execution_count": 3,
     "metadata": {},
     "output_type": "execute_result"
    }
   ],
   "source": [
    "st.insert([0,1])\n",
    "st.insert([1,2])\n",
    "st.insert([3,1])"
   ]
  },
  {
   "cell_type": "markdown",
   "metadata": {},
   "source": [
    "If the simplex is already in the filtration then the `insert()` method outputs the boolean `False`."
   ]
  },
  {
   "cell_type": "code",
   "execution_count": 4,
   "metadata": {},
   "outputs": [
    {
     "data": {
      "text/plain": [
       "False"
      ]
     },
     "execution_count": 4,
     "metadata": {},
     "output_type": "execute_result"
    }
   ],
   "source": [
    "st.insert([3,1])"
   ]
  },
  {
   "cell_type": "markdown",
   "metadata": {},
   "source": [
    "We obtain the list of all the simplices with the `get_filtration()` method : "
   ]
  },
  {
   "cell_type": "code",
   "execution_count": 5,
   "metadata": {},
   "outputs": [],
   "source": [
    "st_list = st.get_filtration() "
   ]
  },
  {
   "cell_type": "markdown",
   "metadata": {},
   "source": [
    "`st_list` is a list and we thus we can iterate on its elements. Each element in the list is a tuple that contains a simplex and the filtration level.\n",
    "\n",
    "The filtration level corresponds gives at what time the simplex appears in the filtration. By defaulty the simplexes are inserted at level = 0 (see further)"
   ]
  },
  {
   "cell_type": "code",
   "execution_count": 6,
   "metadata": {},
   "outputs": [
    {
     "name": "stdout",
     "output_type": "stream",
     "text": [
      "([0], 0.0)\n",
      "([1], 0.0)\n",
      "([0, 1], 0.0)\n",
      "([2], 0.0)\n",
      "([1, 2], 0.0)\n",
      "([3], 0.0)\n",
      "([1, 3], 0.0)\n"
     ]
    }
   ],
   "source": [
    "for splx in st_list :\n",
    "    print(splx)"
   ]
  },
  {
   "cell_type": "markdown",
   "metadata": {},
   "source": [
    "Notice that inserting an edge automatically insert its vertices (if they were not already in the complex)"
   ]
  },
  {
   "cell_type": "markdown",
   "metadata": {},
   "source": [
    "### Simplex tree description"
   ]
  },
  {
   "cell_type": "markdown",
   "metadata": {},
   "source": [
    "The dimension of the simplex tree is given by the `dimension()` method "
   ]
  },
  {
   "cell_type": "code",
   "execution_count": 7,
   "metadata": {},
   "outputs": [
    {
     "data": {
      "text/plain": [
       "1"
      ]
     },
     "execution_count": 7,
     "metadata": {},
     "output_type": "execute_result"
    }
   ],
   "source": [
    "st.dimension()"
   ]
  },
  {
   "cell_type": "markdown",
   "metadata": {},
   "source": [
    "It is possible to compute  the number of vertices in the simplex tree"
   ]
  },
  {
   "cell_type": "code",
   "execution_count": 8,
   "metadata": {},
   "outputs": [
    {
     "data": {
      "text/plain": [
       "4"
      ]
     },
     "execution_count": 8,
     "metadata": {},
     "output_type": "execute_result"
    }
   ],
   "source": [
    "st.num_vertices()"
   ]
  },
  {
   "cell_type": "markdown",
   "metadata": {},
   "source": [
    "In the same way, for the number of simplices:"
   ]
  },
  {
   "cell_type": "code",
   "execution_count": 9,
   "metadata": {},
   "outputs": [
    {
     "data": {
      "text/plain": [
       "7"
      ]
     },
     "execution_count": 9,
     "metadata": {},
     "output_type": "execute_result"
    }
   ],
   "source": [
    "st.num_simplices()"
   ]
  },
  {
   "cell_type": "markdown",
   "metadata": {},
   "source": [
    "The skeleton for every dimension can be aslo computed with the `get_skeleton_tree()` method "
   ]
  },
  {
   "cell_type": "code",
   "execution_count": 10,
   "metadata": {
    "scrolled": true
   },
   "outputs": [
    {
     "name": "stdout",
     "output_type": "stream",
     "text": [
      "[([0, 1], 0.0), ([0], 0.0), ([1, 2], 0.0), ([1, 3], 0.0), ([1], 0.0), ([2], 0.0), ([3], 0.0)]\n"
     ]
    }
   ],
   "source": [
    "print(st.get_skeleton(1))"
   ]
  },
  {
   "cell_type": "markdown",
   "metadata": {},
   "source": [
    "One can also test if a simplex is already in the filtration with the `find()` method:"
   ]
  },
  {
   "cell_type": "code",
   "execution_count": 11,
   "metadata": {},
   "outputs": [
    {
     "data": {
      "text/plain": [
       "False"
      ]
     },
     "execution_count": 11,
     "metadata": {},
     "output_type": "execute_result"
    }
   ],
   "source": [
    "st.find([2, 4])"
   ]
  },
  {
   "cell_type": "markdown",
   "metadata": {},
   "source": [
    "### Filtration levels\n",
    "\n",
    "We can insert simplices at different filtration levels. For instances with triangles:"
   ]
  },
  {
   "cell_type": "code",
   "execution_count": 12,
   "metadata": {},
   "outputs": [
    {
     "name": "stdout",
     "output_type": "stream",
     "text": [
      "([0], 0.0)\n",
      "([1], 0.0)\n",
      "([0, 1], 0.0)\n",
      "([2], 0.0)\n",
      "([1, 2], 0.0)\n",
      "([3], 0.0)\n",
      "([1, 3], 0.0)\n",
      "([0, 2], 0.1)\n",
      "([0, 1, 2], 0.1)\n",
      "([2, 3], 0.2)\n",
      "([1, 2, 3], 0.2)\n",
      "([0, 3], 0.4)\n",
      "([0, 1, 3], 0.4)\n"
     ]
    }
   ],
   "source": [
    "st.insert([0,1,2],filtration=0.1)\n",
    "st.insert([1,2,3],filtration=0.2)\n",
    "st.insert([0,1,3],filtration=0.4)\n",
    "st_list  = st.get_filtration() \n",
    "\n",
    "for splx in st_list :\n",
    "    print(splx)"
   ]
  },
  {
   "cell_type": "markdown",
   "metadata": {},
   "source": [
    "If we add a new simplex with a given filtration values, all its faces that were not in the complex before are added with the same filtration value :"
   ]
  },
  {
   "cell_type": "code",
   "execution_count": 13,
   "metadata": {},
   "outputs": [
    {
     "name": "stdout",
     "output_type": "stream",
     "text": [
      "([0], 0.0)\n",
      "([1], 0.0)\n",
      "([0, 1], 0.0)\n",
      "([2], 0.0)\n",
      "([1, 2], 0.0)\n",
      "([3], 0.0)\n",
      "([1, 3], 0.0)\n",
      "([0, 2], 0.1)\n",
      "([0, 1, 2], 0.1)\n",
      "([2, 3], 0.2)\n",
      "([1, 2, 3], 0.2)\n",
      "([0, 3], 0.4)\n",
      "([0, 1, 3], 0.4)\n",
      "([4], 0.7)\n",
      "([2, 4], 0.7)\n",
      "([3, 4], 0.7)\n",
      "([2, 3, 4], 0.7)\n"
     ]
    }
   ],
   "source": [
    "st.insert([2,3,4],filtration=0.7)\n",
    "st_list = st.get_filtration()\n",
    "for splx in st_list:\n",
    "    print(splx)   "
   ]
  },
  {
   "cell_type": "markdown",
   "metadata": {},
   "source": [
    "The `assign_filtration()` method can be used to assign a filtration value to a simplex that is \n",
    "already in the filtration."
   ]
  },
  {
   "cell_type": "code",
   "execution_count": 14,
   "metadata": {},
   "outputs": [
    {
     "name": "stdout",
     "output_type": "stream",
     "text": [
      "([0], 0.0)\n",
      "([1], 0.0)\n",
      "([0, 1], 0.0)\n",
      "([2], 0.0)\n",
      "([1, 2], 0.0)\n",
      "([1, 3], 0.0)\n",
      "([0, 2], 0.1)\n",
      "([0, 1, 2], 0.1)\n",
      "([2, 3], 0.2)\n",
      "([1, 2, 3], 0.2)\n",
      "([0, 3], 0.4)\n",
      "([0, 1, 3], 0.4)\n",
      "([4], 0.7)\n",
      "([2, 4], 0.7)\n",
      "([3, 4], 0.7)\n",
      "([2, 3, 4], 0.7)\n",
      "([3], 0.8)\n"
     ]
    }
   ],
   "source": [
    "st.assign_filtration([3],filtration=0.8)\n",
    "st_list = st.get_filtration()\n",
    "for splx in st_list:\n",
    "    print(splx)   "
   ]
  },
  {
   "cell_type": "markdown",
   "metadata": {},
   "source": [
    "But this simplex is not a filtered simplicial complex because the filtration level of the vertex 3 is higher then the filtration level of the edge 2-3. We can use the  this problem with the "
   ]
  },
  {
   "cell_type": "code",
   "execution_count": 15,
   "metadata": {},
   "outputs": [
    {
     "name": "stdout",
     "output_type": "stream",
     "text": [
      "([0], 0.0)\n",
      "([1], 0.0)\n",
      "([0, 1], 0.0)\n",
      "([2], 0.0)\n",
      "([1, 2], 0.0)\n",
      "([0, 2], 0.1)\n",
      "([0, 1, 2], 0.1)\n",
      "([4], 0.7)\n",
      "([2, 4], 0.7)\n",
      "([3], 0.8)\n",
      "([0, 3], 0.8)\n",
      "([1, 3], 0.8)\n",
      "([0, 1, 3], 0.8)\n",
      "([2, 3], 0.8)\n",
      "([1, 2, 3], 0.8)\n",
      "([3, 4], 0.8)\n",
      "([2, 3, 4], 0.8)\n"
     ]
    }
   ],
   "source": [
    "st.make_filtration_non_decreasing()\n",
    "st_list = st.get_filtration()\n",
    "for splx in st_list:\n",
    "    print(splx)  "
   ]
  },
  {
   "cell_type": "markdown",
   "metadata": {},
   "source": [
    "The `filtration()` function  returns the filtration level of a given simplex in the filtration :"
   ]
  },
  {
   "cell_type": "code",
   "execution_count": 16,
   "metadata": {},
   "outputs": [
    {
     "data": {
      "text/plain": [
       "0.7"
      ]
     },
     "execution_count": 16,
     "metadata": {},
     "output_type": "execute_result"
    }
   ],
   "source": [
    "st.filtration([2, 4])"
   ]
  }
 ],
 "metadata": {
  "anaconda-cloud": {},
  "kernelspec": {
   "display_name": "Python 3",
   "language": "python",
   "name": "python3"
  },
  "language_info": {
   "codemirror_mode": {
    "name": "ipython",
    "version": 3
   },
   "file_extension": ".py",
   "mimetype": "text/x-python",
   "name": "python",
   "nbconvert_exporter": "python",
   "pygments_lexer": "ipython3",
   "version": "3.7.3"
  }
 },
 "nbformat": 4,
 "nbformat_minor": 1
}
